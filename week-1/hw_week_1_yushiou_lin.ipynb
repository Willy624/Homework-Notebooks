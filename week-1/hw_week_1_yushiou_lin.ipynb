{
 "cells": [
  {
   "cell_type": "markdown",
   "metadata": {},
   "source": [
    "# Week 1 - Retreiving and Preparing Text for Machines\n",
    "\n",
    "This week, we begin by \"begging, borrowing and stealing\" text from several\n",
    "contexts of human communication (e.g., PDFs, HTML, Word) and preparing it for\n",
    "machines to \"read\" and analyze. This notebook outlines scraping text from the\n",
    "web, PDF and Word documents. Then we detail \"spidering\" or walking\n",
    "through hyperlinks to build samples of online content, and using APIs,\n",
    "Application Programming Interfaces, provided by webservices to access their\n",
    "content. Along the way, we will use regular expressions, outlined in the\n",
    "reading, to remove unwanted formatting and ornamentation. Finally, we discuss\n",
    "various text encodings, filtering and data structures in which text can be\n",
    "placed for analysis.\n",
    "\n",
    "For this notebook we will be using the following packages:"
   ]
  },
  {
   "cell_type": "markdown",
   "metadata": {},
   "source": [
    "We made a python package just for this course: lucem_illud. If you haven't installed this package, you should run the following code first. You don't need to install the package later; all you need to do is just to import the package with: import lucem_illud. "
   ]
  },
  {
   "cell_type": "code",
   "execution_count": 1,
   "metadata": {},
   "outputs": [
    {
     "name": "stdout",
     "output_type": "stream",
     "text": [
      "Collecting git+git://github.com/UChicago-Computational-Content-Analysis/lucem_illud.git\n",
      "  Cloning git://github.com/UChicago-Computational-Content-Analysis/lucem_illud.git to /private/var/folders/st/9458kmp918v5693jdbcddc_n794hn2/T/pip-req-build-qchh5fw0\n",
      "  Running command git clone -q git://github.com/UChicago-Computational-Content-Analysis/lucem_illud.git /private/var/folders/st/9458kmp918v5693jdbcddc_n794hn2/T/pip-req-build-qchh5fw0\n",
      "Requirement already satisfied (use --upgrade to upgrade): lucem-illud==8.0.1 from git+git://github.com/UChicago-Computational-Content-Analysis/lucem_illud.git in /Users/yslin624/opt/anaconda3/lib/python3.8/site-packages\n",
      "Requirement already satisfied: numpy in /Users/yslin624/opt/anaconda3/lib/python3.8/site-packages (from lucem-illud==8.0.1) (1.18.5)\n",
      "Requirement already satisfied: requests in /Users/yslin624/opt/anaconda3/lib/python3.8/site-packages (from lucem-illud==8.0.1) (2.24.0)\n",
      "Requirement already satisfied: pandas in /Users/yslin624/opt/anaconda3/lib/python3.8/site-packages (from lucem-illud==8.0.1) (1.0.5)\n",
      "Requirement already satisfied: python-docx in /Users/yslin624/opt/anaconda3/lib/python3.8/site-packages (from lucem-illud==8.0.1) (0.8.10)\n",
      "Requirement already satisfied: pillow in /Users/yslin624/opt/anaconda3/lib/python3.8/site-packages (from lucem-illud==8.0.1) (7.2.0)\n",
      "Requirement already satisfied: pdfminer2 in /Users/yslin624/opt/anaconda3/lib/python3.8/site-packages (from lucem-illud==8.0.1) (20151206)\n",
      "Requirement already satisfied: GitPython in /Users/yslin624/opt/anaconda3/lib/python3.8/site-packages (from lucem-illud==8.0.1) (3.1.12)\n",
      "Requirement already satisfied: wordcloud in /Users/yslin624/opt/anaconda3/lib/python3.8/site-packages (from lucem-illud==8.0.1) (1.8.1)\n",
      "Requirement already satisfied: scipy in /Users/yslin624/opt/anaconda3/lib/python3.8/site-packages (from lucem-illud==8.0.1) (1.5.0)\n",
      "Requirement already satisfied: seaborn in /Users/yslin624/opt/anaconda3/lib/python3.8/site-packages (from lucem-illud==8.0.1) (0.10.1)\n",
      "Requirement already satisfied: scikit-learn in /Users/yslin624/opt/anaconda3/lib/python3.8/site-packages (from lucem-illud==8.0.1) (0.23.1)\n",
      "Requirement already satisfied: nltk in /Users/yslin624/opt/anaconda3/lib/python3.8/site-packages (from lucem-illud==8.0.1) (3.5)\n",
      "Requirement already satisfied: gensim in /Users/yslin624/opt/anaconda3/lib/python3.8/site-packages (from lucem-illud==8.0.1) (3.8.3)\n",
      "Requirement already satisfied: matplotlib in /Users/yslin624/opt/anaconda3/lib/python3.8/site-packages (from lucem-illud==8.0.1) (3.2.2)\n",
      "Requirement already satisfied: pyanno3 in /Users/yslin624/opt/anaconda3/lib/python3.8/site-packages (from lucem-illud==8.0.1) (2.0.2)\n",
      "Requirement already satisfied: beautifulsoup4 in /Users/yslin624/opt/anaconda3/lib/python3.8/site-packages (from lucem-illud==8.0.1) (4.9.1)\n",
      "Requirement already satisfied: graphviz in /Users/yslin624/opt/anaconda3/lib/python3.8/site-packages (from lucem-illud==8.0.1) (0.16)\n",
      "Requirement already satisfied: boto3 in /Users/yslin624/opt/anaconda3/lib/python3.8/site-packages (from lucem-illud==8.0.1) (1.16.54)\n",
      "Requirement already satisfied: networkx in /Users/yslin624/opt/anaconda3/lib/python3.8/site-packages (from lucem-illud==8.0.1) (2.4)\n",
      "Requirement already satisfied: pydub in /Users/yslin624/opt/anaconda3/lib/python3.8/site-packages (from lucem-illud==8.0.1) (0.24.1)\n",
      "Requirement already satisfied: speechrecognition in /Users/yslin624/opt/anaconda3/lib/python3.8/site-packages (from lucem-illud==8.0.1) (3.8.1)\n",
      "Requirement already satisfied: pysoundfile in /Users/yslin624/opt/anaconda3/lib/python3.8/site-packages (from lucem-illud==8.0.1) (0.9.0.post1)\n",
      "Requirement already satisfied: scikit-image in /Users/yslin624/opt/anaconda3/lib/python3.8/site-packages (from lucem-illud==8.0.1) (0.16.2)\n",
      "Requirement already satisfied: IPython in /Users/yslin624/opt/anaconda3/lib/python3.8/site-packages (from lucem-illud==8.0.1) (7.16.1)\n",
      "Requirement already satisfied: spacy in /Users/yslin624/opt/anaconda3/lib/python3.8/site-packages (from lucem-illud==8.0.1) (2.3.5)\n",
      "Requirement already satisfied: idna<3,>=2.5 in /Users/yslin624/opt/anaconda3/lib/python3.8/site-packages (from requests->lucem-illud==8.0.1) (2.10)\n",
      "Requirement already satisfied: urllib3!=1.25.0,!=1.25.1,<1.26,>=1.21.1 in /Users/yslin624/opt/anaconda3/lib/python3.8/site-packages (from requests->lucem-illud==8.0.1) (1.25.9)\n",
      "Requirement already satisfied: chardet<4,>=3.0.2 in /Users/yslin624/opt/anaconda3/lib/python3.8/site-packages (from requests->lucem-illud==8.0.1) (3.0.4)\n",
      "Requirement already satisfied: certifi>=2017.4.17 in /Users/yslin624/opt/anaconda3/lib/python3.8/site-packages (from requests->lucem-illud==8.0.1) (2020.6.20)\n",
      "Requirement already satisfied: pytz>=2017.2 in /Users/yslin624/opt/anaconda3/lib/python3.8/site-packages (from pandas->lucem-illud==8.0.1) (2020.1)\n",
      "Requirement already satisfied: python-dateutil>=2.6.1 in /Users/yslin624/opt/anaconda3/lib/python3.8/site-packages (from pandas->lucem-illud==8.0.1) (2.8.1)\n",
      "Requirement already satisfied: lxml>=2.3.2 in /Users/yslin624/opt/anaconda3/lib/python3.8/site-packages (from python-docx->lucem-illud==8.0.1) (4.5.2)\n",
      "Requirement already satisfied: six in /Users/yslin624/opt/anaconda3/lib/python3.8/site-packages (from pdfminer2->lucem-illud==8.0.1) (1.15.0)\n",
      "Requirement already satisfied: gitdb<5,>=4.0.1 in /Users/yslin624/opt/anaconda3/lib/python3.8/site-packages (from GitPython->lucem-illud==8.0.1) (4.0.5)\n",
      "Requirement already satisfied: joblib>=0.11 in /Users/yslin624/opt/anaconda3/lib/python3.8/site-packages (from scikit-learn->lucem-illud==8.0.1) (0.16.0)\n",
      "Requirement already satisfied: threadpoolctl>=2.0.0 in /Users/yslin624/opt/anaconda3/lib/python3.8/site-packages (from scikit-learn->lucem-illud==8.0.1) (2.1.0)\n",
      "Requirement already satisfied: tqdm in /Users/yslin624/opt/anaconda3/lib/python3.8/site-packages (from nltk->lucem-illud==8.0.1) (4.47.0)\n",
      "Requirement already satisfied: regex in /Users/yslin624/opt/anaconda3/lib/python3.8/site-packages (from nltk->lucem-illud==8.0.1) (2020.6.8)\n",
      "Requirement already satisfied: click in /Users/yslin624/opt/anaconda3/lib/python3.8/site-packages (from nltk->lucem-illud==8.0.1) (7.1.2)\n",
      "Requirement already satisfied: smart-open>=1.8.1 in /Users/yslin624/opt/anaconda3/lib/python3.8/site-packages (from gensim->lucem-illud==8.0.1) (4.1.0)\n",
      "Requirement already satisfied: kiwisolver>=1.0.1 in /Users/yslin624/opt/anaconda3/lib/python3.8/site-packages (from matplotlib->lucem-illud==8.0.1) (1.2.0)\n",
      "Requirement already satisfied: pyparsing!=2.0.4,!=2.1.2,!=2.1.6,>=2.0.1 in /Users/yslin624/opt/anaconda3/lib/python3.8/site-packages (from matplotlib->lucem-illud==8.0.1) (2.4.7)\n",
      "Requirement already satisfied: cycler>=0.10 in /Users/yslin624/opt/anaconda3/lib/python3.8/site-packages (from matplotlib->lucem-illud==8.0.1) (0.10.0)\n",
      "Requirement already satisfied: traits in /Users/yslin624/opt/anaconda3/lib/python3.8/site-packages (from pyanno3->lucem-illud==8.0.1) (6.1.1)\n",
      "Requirement already satisfied: soupsieve>1.2 in /Users/yslin624/opt/anaconda3/lib/python3.8/site-packages (from beautifulsoup4->lucem-illud==8.0.1) (2.0.1)\n",
      "Requirement already satisfied: botocore<1.20.0,>=1.19.54 in /Users/yslin624/opt/anaconda3/lib/python3.8/site-packages (from boto3->lucem-illud==8.0.1) (1.19.54)\n",
      "Requirement already satisfied: s3transfer<0.4.0,>=0.3.0 in /Users/yslin624/opt/anaconda3/lib/python3.8/site-packages (from boto3->lucem-illud==8.0.1) (0.3.4)\n",
      "Requirement already satisfied: jmespath<1.0.0,>=0.7.1 in /Users/yslin624/opt/anaconda3/lib/python3.8/site-packages (from boto3->lucem-illud==8.0.1) (0.10.0)\n",
      "Requirement already satisfied: decorator>=4.3.0 in /Users/yslin624/opt/anaconda3/lib/python3.8/site-packages (from networkx->lucem-illud==8.0.1) (4.4.2)\n",
      "Requirement already satisfied: cffi>=0.6 in /Users/yslin624/opt/anaconda3/lib/python3.8/site-packages (from pysoundfile->lucem-illud==8.0.1) (1.14.0)\n",
      "Requirement already satisfied: imageio>=2.3.0 in /Users/yslin624/opt/anaconda3/lib/python3.8/site-packages (from scikit-image->lucem-illud==8.0.1) (2.9.0)\n",
      "Requirement already satisfied: PyWavelets>=0.4.0 in /Users/yslin624/opt/anaconda3/lib/python3.8/site-packages (from scikit-image->lucem-illud==8.0.1) (1.1.1)\n",
      "Requirement already satisfied: pygments in /Users/yslin624/opt/anaconda3/lib/python3.8/site-packages (from IPython->lucem-illud==8.0.1) (2.6.1)\n",
      "Requirement already satisfied: appnope; sys_platform == \"darwin\" in /Users/yslin624/opt/anaconda3/lib/python3.8/site-packages (from IPython->lucem-illud==8.0.1) (0.1.0)\n",
      "Requirement already satisfied: backcall in /Users/yslin624/opt/anaconda3/lib/python3.8/site-packages (from IPython->lucem-illud==8.0.1) (0.2.0)\n",
      "Requirement already satisfied: prompt-toolkit!=3.0.0,!=3.0.1,<3.1.0,>=2.0.0 in /Users/yslin624/opt/anaconda3/lib/python3.8/site-packages (from IPython->lucem-illud==8.0.1) (3.0.5)\n",
      "Requirement already satisfied: pexpect; sys_platform != \"win32\" in /Users/yslin624/opt/anaconda3/lib/python3.8/site-packages (from IPython->lucem-illud==8.0.1) (4.8.0)\n",
      "Requirement already satisfied: jedi>=0.10 in /Users/yslin624/opt/anaconda3/lib/python3.8/site-packages (from IPython->lucem-illud==8.0.1) (0.17.1)\n"
     ]
    },
    {
     "name": "stdout",
     "output_type": "stream",
     "text": [
      "Requirement already satisfied: traitlets>=4.2 in /Users/yslin624/opt/anaconda3/lib/python3.8/site-packages (from IPython->lucem-illud==8.0.1) (4.3.3)\n",
      "Requirement already satisfied: pickleshare in /Users/yslin624/opt/anaconda3/lib/python3.8/site-packages (from IPython->lucem-illud==8.0.1) (0.7.5)\n",
      "Requirement already satisfied: setuptools>=18.5 in /Users/yslin624/opt/anaconda3/lib/python3.8/site-packages (from IPython->lucem-illud==8.0.1) (49.2.0.post20200714)\n",
      "Requirement already satisfied: plac<1.2.0,>=0.9.6 in /Users/yslin624/opt/anaconda3/lib/python3.8/site-packages (from spacy->lucem-illud==8.0.1) (1.1.3)\n",
      "Requirement already satisfied: thinc<7.5.0,>=7.4.1 in /Users/yslin624/opt/anaconda3/lib/python3.8/site-packages (from spacy->lucem-illud==8.0.1) (7.4.5)\n",
      "Requirement already satisfied: wasabi<1.1.0,>=0.4.0 in /Users/yslin624/opt/anaconda3/lib/python3.8/site-packages (from spacy->lucem-illud==8.0.1) (0.8.0)\n",
      "Requirement already satisfied: preshed<3.1.0,>=3.0.2 in /Users/yslin624/opt/anaconda3/lib/python3.8/site-packages (from spacy->lucem-illud==8.0.1) (3.0.5)\n",
      "Requirement already satisfied: srsly<1.1.0,>=1.0.2 in /Users/yslin624/opt/anaconda3/lib/python3.8/site-packages (from spacy->lucem-illud==8.0.1) (1.0.5)\n",
      "Requirement already satisfied: blis<0.8.0,>=0.4.0 in /Users/yslin624/opt/anaconda3/lib/python3.8/site-packages (from spacy->lucem-illud==8.0.1) (0.7.4)\n",
      "Requirement already satisfied: cymem<2.1.0,>=2.0.2 in /Users/yslin624/opt/anaconda3/lib/python3.8/site-packages (from spacy->lucem-illud==8.0.1) (2.0.5)\n",
      "Requirement already satisfied: catalogue<1.1.0,>=0.0.7 in /Users/yslin624/opt/anaconda3/lib/python3.8/site-packages (from spacy->lucem-illud==8.0.1) (1.0.0)\n",
      "Requirement already satisfied: murmurhash<1.1.0,>=0.28.0 in /Users/yslin624/opt/anaconda3/lib/python3.8/site-packages (from spacy->lucem-illud==8.0.1) (1.0.5)\n",
      "Requirement already satisfied: smmap<4,>=3.0.1 in /Users/yslin624/opt/anaconda3/lib/python3.8/site-packages (from gitdb<5,>=4.0.1->GitPython->lucem-illud==8.0.1) (3.0.4)\n",
      "Requirement already satisfied: pycparser in /Users/yslin624/opt/anaconda3/lib/python3.8/site-packages (from cffi>=0.6->pysoundfile->lucem-illud==8.0.1) (2.20)\n",
      "Requirement already satisfied: wcwidth in /Users/yslin624/opt/anaconda3/lib/python3.8/site-packages (from prompt-toolkit!=3.0.0,!=3.0.1,<3.1.0,>=2.0.0->IPython->lucem-illud==8.0.1) (0.2.5)\n",
      "Requirement already satisfied: ptyprocess>=0.5 in /Users/yslin624/opt/anaconda3/lib/python3.8/site-packages (from pexpect; sys_platform != \"win32\"->IPython->lucem-illud==8.0.1) (0.6.0)\n",
      "Requirement already satisfied: parso<0.8.0,>=0.7.0 in /Users/yslin624/opt/anaconda3/lib/python3.8/site-packages (from jedi>=0.10->IPython->lucem-illud==8.0.1) (0.7.0)\n",
      "Requirement already satisfied: ipython-genutils in /Users/yslin624/opt/anaconda3/lib/python3.8/site-packages (from traitlets>=4.2->IPython->lucem-illud==8.0.1) (0.2.0)\n",
      "Building wheels for collected packages: lucem-illud\n",
      "  Building wheel for lucem-illud (setup.py) ... \u001b[?25ldone\n",
      "\u001b[?25h  Created wheel for lucem-illud: filename=lucem_illud-8.0.1-py3-none-any.whl size=34913 sha256=9cddd24abddd09f6e3eb5939d11d9ba3ee61f2ebe2133c4ece14b82e30854cce\n",
      "  Stored in directory: /private/var/folders/st/9458kmp918v5693jdbcddc_n794hn2/T/pip-ephem-wheel-cache-5marrejb/wheels/26/66/59/2c69dc2c9856ccf2d3eb274e5754cbb361d91e0a577f63c61d\n",
      "Successfully built lucem-illud\n"
     ]
    }
   ],
   "source": [
    "!pip install git+git://github.com/UChicago-Computational-Content-Analysis/lucem_illud.git\n",
    "#installing lucem_illud package"
   ]
  },
  {
   "cell_type": "markdown",
   "metadata": {},
   "source": [
    "If you're not familiar with jupyter notebook, you may wonder what the exclamation mark(!) at the beginning of the command does (or even what pip means). The exclamation mark enables us to execute Terminal commands in the notebook cells. "
   ]
  },
  {
   "cell_type": "code",
   "execution_count": 2,
   "metadata": {},
   "outputs": [],
   "source": [
    "# Special module written for this class\n",
    "# This provides access to data and to helper functions from previous weeks\n",
    "import lucem_illud # pip install git+git://github.com/UChicago-Computational-Content-Analysis/lucem_illud.git\n",
    "\n",
    "# All these packages need to be installed from pip\n",
    "import requests # for http requests\n",
    "import bs4 # called `beautifulsoup4`, an html parser\n",
    "import pandas as pd # gives us DataFrames\n",
    "import docx # reading MS doc files, install as `python-docx`\n",
    "\n",
    "# Stuff for pdfs\n",
    "# Install as `pdfminer2`\n",
    "import pdfminer.pdfinterp\n",
    "import pdfminer.converter\n",
    "import pdfminer.layout\n",
    "import pdfminer.pdfpage\n",
    "import PyPDF2\n",
    "\n",
    "# These come with Python\n",
    "import re # for regexs\n",
    "import urllib.parse # For joining urls\n",
    "import io # For making http requests look like files\n",
    "import json # For Tumblr API responses\n",
    "import os.path # For checking if files exist\n",
    "import os # For making directories\n",
    "\n",
    "# Set up working directory\n",
    "os.chdir('/Users/yslin624/Homework-Notebooks')\n"
   ]
  },
  {
   "cell_type": "markdown",
   "metadata": {},
   "source": [
    "We will also be working on the following files/urls"
   ]
  },
  {
   "cell_type": "code",
   "execution_count": 3,
   "metadata": {},
   "outputs": [],
   "source": [
    "wikipedia_base_url = 'https://en.wikipedia.org'\n",
    "wikipedia_content_analysis = 'https://en.wikipedia.org/wiki/Content_analysis'\n",
    "content_analysis_save = 'wikipedia_content_analysis.html'\n",
    "example_text_file = 'sometextfile.txt'\n",
    "information_extraction_pdf = 'https://github.com/Computational-Content-Analysis-2018/Data-Files/raw/master/1-intro/Content%20Analysis%2018.pdf'\n",
    "example_docx = 'https://github.com/Computational-Content-Analysis-2018/Data-Files/raw/master/1-intro/macs6000_connecting_to_midway.docx'\n",
    "example_docx_save = 'example.docx'"
   ]
  },
  {
   "cell_type": "markdown",
   "metadata": {},
   "source": [
    "# Scraping\n",
    "\n",
    "Before we can start analyzing content we need to obtain it. Sometimes it will be\n",
    "provided to us from a pre-curated text archive, but sometimes we will need to\n",
    "download it. As a starting example we will attempt to download the wikipedia\n",
    "page on content analysis. The page is located at [https://en.wikipedia.org/wiki/\n",
    "Content_analysis](https://en.wikipedia.org/wiki/Content_analysis) so lets start\n",
    "with that.\n",
    "\n",
    "We can do this by making an HTTP GET request to that url, a GET request is\n",
    "simply a request to the server to provide the contents given by some url. The\n",
    "other request we will be using in this class is called a POST request and\n",
    "requests the server to take some content we provide. While the Python standard\n",
    "library does have the ability do make GET requests we will be using the\n",
    "[_requests_](http://docs.python-requests.org/en/master/) package as it is _'the\n",
    "only Non-GMO HTTP library for Python'_...also it provides a nicer interface."
   ]
  },
  {
   "cell_type": "code",
   "execution_count": null,
   "metadata": {},
   "outputs": [],
   "source": [
    "#wikipedia_content_analysis = 'https://en.wikipedia.org/wiki/Content_analysis'\n",
    "requests.get(wikipedia_content_analysis)"
   ]
  },
  {
   "cell_type": "markdown",
   "metadata": {},
   "source": [
    "`'Response [200]'` means the server responded with what we asked for. If you get\n",
    "another number (e.g. 404) it likely means there was some kind of error, these\n",
    "codes are called HTTP response codes and a list of them can be found\n",
    "[here](https://en.wikipedia.org/wiki/List_of_HTTP_status_codes). The response\n",
    "object contains all the data the server sent including the website's contents\n",
    "and the HTTP header. We are interested in the contents which we can access with\n",
    "the `.text` attribute."
   ]
  },
  {
   "cell_type": "code",
   "execution_count": null,
   "metadata": {},
   "outputs": [],
   "source": [
    "wikiContentRequest = requests.get(wikipedia_content_analysis)\n",
    "print(wikiContentRequest.text[:1000])"
   ]
  },
  {
   "cell_type": "markdown",
   "metadata": {},
   "source": [
    "This is not what we were looking for, because it is the start of the HTML that\n",
    "makes up the website. This is HTML and is meant to be read by computers. Luckily\n",
    "we have a computer to parse it for us. To do the parsing we will use [_Beautiful\n",
    "Soup_](https://www.crummy.com/software/BeautifulSoup/) which is a better parser\n",
    "than the one in the standard library."
   ]
  },
  {
   "cell_type": "markdown",
   "metadata": {},
   "source": [
    "But before we proceed to Beautiful Soup, a digression about Python syntax, especially about objects and functions.\n",
    "For those who are not familiar with the syntax of python (or, if you're familiar with R programming), you might wonder what requests.get or wikiContentRequest.text mean. To understand this, you need to first understand what objects are. You may have heard that Python is an object oriented programming language (unlike the procedure oriented programming language, an example of which is R). Object is a set of variables (or, data) and functions into which you pass your data. So, in object oriented programming languages, like python, variables and functions are bunleded into objects.\n",
    "\n",
    "For example, let's look at wikiContentRequest. We use dir() function, which returns the list of attributes and functions of objects."
   ]
  },
  {
   "cell_type": "code",
   "execution_count": null,
   "metadata": {},
   "outputs": [],
   "source": [
    "dir(wikiContentRequest)"
   ]
  },
  {
   "cell_type": "markdown",
   "metadata": {},
   "source": [
    "There's 'text' here. We used 'wikiContentRequest.text' to access 'text.' In other words, we use .(dot notation) to access functions from objects. wikiContentRequest has a set of functions, as shown above, and we used 'wikiContentRequest.text' to access one of them. By the way, dot notations do not necessarily refer to functions--it refers to anything that the entity contains. \n",
    "\n"
   ]
  },
  {
   "cell_type": "markdown",
   "metadata": {},
   "source": [
    "Moving on to the next step: BeautifulSoup, a Python library which extracts data from HTML and XML, and transforms HTML files into Python objects."
   ]
  },
  {
   "cell_type": "code",
   "execution_count": null,
   "metadata": {},
   "outputs": [],
   "source": [
    "wikiContentSoup = bs4.BeautifulSoup(wikiContentRequest.text, 'html.parser')\n",
    "print(wikiContentSoup.text[:1000])"
   ]
  },
  {
   "cell_type": "markdown",
   "metadata": {},
   "source": [
    "This is better but there's still random whitespace and we have more than just\n",
    "the text of the article. This is because what we requested is the whole webpage,\n",
    "not just the text for the article.\n",
    "\n",
    "We want to extract only the text we care about, and in order to do this we will\n",
    "need to inspect the html. One way to do this is simply to go to the website with\n",
    "a browser and use its inspection or view source tool. If javascript or other\n",
    "dynamic loading occurs on the page, however, it is likely that what Python\n",
    "receives is not what you will see, so we will need to inspect what Python\n",
    "receives. To do this we can save the html `requests` obtained."
   ]
  },
  {
   "cell_type": "code",
   "execution_count": null,
   "metadata": {},
   "outputs": [],
   "source": [
    "#content_analysis_save = 'wikipedia_content_analysis.html'\n",
    "\n",
    "with open(content_analysis_save, mode='w', encoding='utf-8') as f:\n",
    "    f.write(wikiContentRequest.text)\n",
    "\n",
    "# Basically this will create a new file in the local folder\n",
    "# Then we can just click on that link to access."
   ]
  },
  {
   "cell_type": "markdown",
   "metadata": {},
   "source": [
    "open() is a function which literally opens and returns the file. This function has multiple modes, and, here, we used mode as 'w', which means: open a file for writing. And then, we use 'write' function to write on the empty file (content_analysis_save) that we created using open(content_analysis_save, mode='w', encoding='utf-8').} What did we write on this file? The text we got from wikiContentRequest.text"
   ]
  },
  {
   "cell_type": "markdown",
   "metadata": {},
   "source": [
    "Now let's open the file (`wikipedia_content_analysis.html`) we just created with\n",
    "a web browser. It should look sort of like the original but without the images\n",
    "and formatting.\n",
    "\n",
    "As there is very little standardization on structuring webpages, figuring out\n",
    "how best to extract what you want is an art. Looking at this page it looks like\n",
    "all the main textual content is inside `<p>`(paragraph) tags within the `<body>`\n",
    "tag. "
   ]
  },
  {
   "cell_type": "code",
   "execution_count": null,
   "metadata": {
    "scrolled": true
   },
   "outputs": [],
   "source": [
    "contentPTags = wikiContentSoup.body.findAll('p')\n",
    "for pTag in contentPTags[:10]:\n",
    "    print(pTag.text)"
   ]
  },
  {
   "cell_type": "markdown",
   "metadata": {},
   "source": [
    "Another excursion for those who are not familiar with programming: for loop. For loop is used to iterate over a sequence. \"ContentPTags\" contains multiple paragraphs, each of which starts and ends with `<p>`. What the \"for pTag in contentPtags[:3]\" does here is: find each paragraph in contentPTags, which, here, we limited to the first three using contentPtags[:3], and then print each paragraph. So, we have three paragraphs. By the way, you can insert `<p>` in juputer notebook!"
   ]
  },
  {
   "cell_type": "markdown",
   "metadata": {},
   "source": [
    "We now have all the text from the page, split up by paragraph. If we wanted to\n",
    "get the section headers or references as well it would require a bit more work,\n",
    "but is doable.\n",
    "\n",
    "There is one more thing we might want to do before sending this text to be\n",
    "processed, remove the references indicators (`[2]`, `[3]` , etc). To do this we\n",
    "can use a short regular expression (regex)."
   ]
  },
  {
   "cell_type": "code",
   "execution_count": null,
   "metadata": {},
   "outputs": [],
   "source": [
    "contentParagraphs = []\n",
    "for pTag in contentPTags:\n",
    "    #strings starting with r are raw so their \\'s are not modifier characters\n",
    "    #If we didn't start with r the string would be: '\\\\[\\\\d+\\\\]'\n",
    "    # The re.sub function here is to substitute the first input with second input, and the third is the main text\n",
    "    contentParagraphs.append(re.sub(r'\\[\\d+\\]', '', pTag.text))\n",
    "\n",
    "#convert to a DataFrame\n",
    "contentParagraphsDF = pd.DataFrame({'paragraph-text' : contentParagraphs})\n",
    "print(contentParagraphsDF)"
   ]
  },
  {
   "cell_type": "markdown",
   "metadata": {},
   "source": [
    "Since we learned how to do for loop, you might get what we did here: using contentParagraphs = [], we made an empty list; and then, for each paragraph in contentPTags, we substituted every [\\d+\\] with '', i.e., removed every [\\d+\\], and then appended each paragraph (now without [\\d+\\]) to the empty list. As we can see, we have a dataframe, each row of which is each paragraph of contentPTags, without reference indicators. \n",
    "\n",
    "By the way, what does [\\d+\\] mean? If you are not familiar with regex, it is a way of specifying searches in text.\n",
    "A regex engine takes in the search pattern, in the above case `'\\[\\d+\\]'` and\n",
    "some string, the paragraph texts. Then it reads the input string one character\n",
    "at a time checking if it matches the search. Here the regex `'\\d'` matches\n",
    "number characters (while `'\\['` and `'\\]'` capture the braces on either side)."
   ]
  },
  {
   "cell_type": "markdown",
   "metadata": {},
   "source": [
    "Now we have a `DataFrame` containing all relevant text from the page ready to be processed"
   ]
  },
  {
   "cell_type": "code",
   "execution_count": null,
   "metadata": {},
   "outputs": [],
   "source": [
    "findNumber = r'\\d'\n",
    "regexResults = re.search(findNumber, 'not a number, not a number, numbers 2134567890, not a number')\n",
    "regexResults"
   ]
  },
  {
   "cell_type": "markdown",
   "metadata": {},
   "source": [
    "In Python the regex package (`re`) usually returns `Match` objects (you can have\n",
    "multiple pattern hits in a a single `Match`), to get the string that matched our\n",
    "pattern we can use the `.group()` method, and as we want the first one we will\n",
    "ask for the 0'th group."
   ]
  },
  {
   "cell_type": "code",
   "execution_count": null,
   "metadata": {},
   "outputs": [],
   "source": [
    "print(regexResults.group())"
   ]
  },
  {
   "cell_type": "markdown",
   "metadata": {},
   "source": [
    "That gives us the first number, if we wanted the whole block of numbers we can\n",
    "add a wildcard `'+'` which requests 1 or more instances of the preceding\n",
    "character."
   ]
  },
  {
   "cell_type": "code",
   "execution_count": null,
   "metadata": {},
   "outputs": [],
   "source": [
    "findNumbers = r'\\d+'\n",
    "regexResults = re.search(findNumbers, 'not a number, not a number, numbers 2134567890, not a number')\n",
    "print(regexResults.group(0))"
   ]
  },
  {
   "cell_type": "markdown",
   "metadata": {},
   "source": [
    "Now we have the whole block of numbers, there are a huge number of special\n",
    "characters in regex, for the full description of Python's implementation look at\n",
    "the [re docs](https://docs.python.org/3/library/re.html) there is also a short\n",
    "[tutorial](https://docs.python.org/3/howto/regex.html#regex-howto)."
   ]
  },
  {
   "cell_type": "markdown",
   "metadata": {},
   "source": [
    "# <span style=\"color:red\">Section 1</span>\n",
    "<span style=\"color:red\">Construct cells immediately below this that describe and download webcontent relating to your anticipated final project. Use beautiful soup and at least five regular expressions to extract relevant, nontrivial *chunks* of that content (e.g., cleaned sentences, paragraphs, etc.) to a pandas `Dataframe`.</span>"
   ]
  },
  {
   "cell_type": "markdown",
   "metadata": {},
   "source": [
    "### Lyrics Study\n",
    "I wish to study the change of lyric contents overtime. My hypothesis is that lyrics reflect certain society emotion (especially targeted at younger generation), and will therefore influence future social and economic status. This is still in a very nascent stage and of course will be subject to change in the future. \n",
    "\n",
    "As for this weeks homework, I will focus on Bob Dylan first as the data collection for one prominent artist is easier.\n",
    "\n",
    "(Sorry I cheated a bit on using straight wikipedia text as in the examples. I listed out the failed attempts I made at the end of this section.)"
   ]
  },
  {
   "cell_type": "code",
   "execution_count": 4,
   "metadata": {},
   "outputs": [],
   "source": [
    "lyrics_path = requests.get('https://en.wikipedia.org/wiki/Like_a_Rolling_Stone')\n",
    "lyrics_cleaned = bs4.BeautifulSoup(lyrics_path.text, 'html.parser')\n",
    "contentTag = lyrics_cleaned.body.findAll('p')\n",
    "\n",
    "contentParagraphs = []\n",
    "for pTag in contentTag:\n",
    "    # The re.sub function here is to substitute the first input with second input, and the third is the main text\n",
    "    contentParagraphs.append(re.sub(r'\\[\\d+\\]', '', pTag.text))"
   ]
  },
  {
   "cell_type": "code",
   "execution_count": 5,
   "metadata": {},
   "outputs": [
    {
     "name": "stdout",
     "output_type": "stream",
     "text": [
      "                                      paragraphs_text\n",
      "0   Like a Rolling Stone is a song by American sin...\n",
      "1   During a difficult two-day preproduction, Dyla...\n",
      "2   Critics have described the track as revolution...\n",
      "3   In the spring of 1965, after returning from th...\n",
      "4   The song grew out of an extended piece of vers...\n",
      "5   It was ten pages long. It wasn't called anythi...\n",
      "6   During 1965, Dylan composed prose, poems, and ...\n",
      "7   From the extended version on paper, Dylan craf...\n",
      "8   For the recording session, Dylan invited Chica...\n",
      "9   The recording sessions were produced by Tom Wi...\n",
      "10  In the first session, on June 15, five takes o...\n",
      "11  When the musicians reconvened the following da...\n",
      "12  There were 15 recorded takes on June 16. By no...\n",
      "13  The complete recording sessions that produced ...\n",
      "14  Unlike conventional chart hits of the time, Li...\n",
      "15  Once upon a time you dressed so fineThrew the ...\n",
      "16  And the first verse ends with lines that seemi...\n",
      "17  Now you don't talk so loudNow you don't seem s...\n",
      "18  Despite the obvious vitriol, the song's narrat...\n",
      "19  When you ain't got nothing, you got nothing to...\n",
      "20       The refrain seems to emphasize these themes:\n",
      "21  How does it feelHow does it feelTo be on your ...\n",
      "22  Dylan biographer Robert Shelton gave this inte...\n",
      "23  Dylan humorously commented on the song's moral...\n",
      "24  Commentators attempted to tie the characters i...\n",
      "25  Greil Marcus alluded to a suggestion by art hi...\n",
      "26  I heard a lecture by Thomas Crow ... about Lik...\n",
      "27  Joan Baez, Marianne Faithfull and Bob Neuwirth...\n",
      "28  Mike Marqusee has written at length on the con...\n",
      "29  According to Shaun Considine, release coordina...\n",
      "30  Despite its length, the song is Dylan's most c...\n",
      "31  In November 2013, forty-eight years after the ...\n",
      "32  Dylan performed the song live for the first ti...\n",
      "33  Highway 61 Revisited was issued at the end of ...\n",
      "34  Since then, Like a Rolling Stone has remained ...\n",
      "35  Live performances of the song are included on ...\n",
      "36  The July 1965 Newport performance of the song ...\n",
      "37  Besides appearing on Highway 61 Revisited, the...\n",
      "38  The song's sound has been described as revolut...\n",
      "39  Dylan had been famous, had been the center of ...\n",
      "40  Paul Rothchild, producer of The Doors' first f...\n",
      "41  The song had a huge impact on Bruce Springstee...\n",
      "42  The first time I heard Bob Dylan, I was in the...\n",
      "43  Dylan's contemporaries in 1965 were both start...\n",
      "44  Although CBS tried to make the record more rad...\n",
      "45  In 1966, Dylan told Ralph Gleason: Rolling Sto...\n",
      "46  More than 50 years since its release, Like a R...\n",
      "47  On June 24, 2014, Sotheby's sold Dylan's origi...\n",
      "48  Many artists have covered Like a Rolling Stone...\n",
      "49  Guitarist Jimi Hendrix, performing with The Ji...\n",
      "50  Huge chords ride over the beginning of each ve...\n",
      "51  The song has also been covered in various lang...\n",
      "52                                                   \n",
      "53                                                   \n",
      "54  sales+streaming figures based on certification...\n",
      "55                                                   \n"
     ]
    }
   ],
   "source": [
    "# Next we proceed to using regex to extract relevant information out of these paragraphs that attempts to introduce or\n",
    "# analyze the 1965 Bob Dylan hit \"Like a Rolling Stone\".\n",
    "\n",
    "\n",
    "# 1. Clean the data such that no html format thing exist, such as \"/n\" or \"/\"\"\n",
    "paragraphs_df = pd.DataFrame({'paragraphs_text': contentParagraphs})\n",
    "paragraphs_df['paragraphs_text'] = paragraphs_df.apply(lambda row: re.sub(r'[\\n]+','', row['paragraphs_text']),axis = 1)\n",
    "paragraphs_df['paragraphs_text'] = paragraphs_df.apply(lambda row: re.sub(r\"\\\"\",'', row['paragraphs_text']),axis = 1)\n",
    "\n",
    "print(paragraphs_df)"
   ]
  },
  {
   "cell_type": "code",
   "execution_count": 6,
   "metadata": {},
   "outputs": [
    {
     "name": "stdout",
     "output_type": "stream",
     "text": [
      "                                             sentence\n",
      "0   During a difficult two-day preproduction, Dyla...\n",
      "1                  2 in the US Billboard charts (No. \n",
      "2    He said that he found himself writing \"this l...\n",
      "3   [25] By now the song had evolved into its fami...\n",
      "4   The complete recording sessions that produced ...\n",
      "5   Despite its length, the song is Dylan's most c...\n",
      "6   [50][51] The promotional copies released to di...\n",
      "7   [59] Created by the digital agency Interlude, ...\n",
      "8   [62] The video was released to publicize the r...\n",
      "9   Highway 61 Revisited was issued at the end of ...\n",
      "10  Besides appearing on Highway 61 Revisited, the...\n",
      "11   In addition, the early, incomplete studio rec...\n",
      "12  The song had a huge impact on Bruce Springstee...\n",
      "13  More than 50 years since its release, \"Like a ...\n"
     ]
    }
   ],
   "source": [
    "# 2. Try to search for numbers other than year, as it might contain appraisal or evaluation.\n",
    "# This is still a very premature way to extract, which will delete all 4 digit words\n",
    "nonyear_list = []\n",
    "nonyear_regex = r'[^.]* \\d{1,3} [^.]*\\. | [^.]* \\d{5,} [^.]*\\.'\n",
    "# One major problem with a period is \".\" might be used in No. or other context other than period.\n",
    "# I have not yet found a satisfying way to avoid this, other than explicitly listing out to delete No.\n",
    "# Therefore I will just go on with this expression, and maybe match those No. back to the original sentence if necessary\n",
    "\n",
    "for pTag in contentTag:\n",
    "    temp_list = re.findall(nonyear_regex, str(pTag.text))\n",
    "    \n",
    "    for sentence in temp_list:\n",
    "        nonyear_list.append(sentence)\n",
    "        \n",
    "nonyear_df = pd.DataFrame({'sentence': nonyear_list})\n",
    "print(nonyear_df)"
   ]
  },
  {
   "cell_type": "code",
   "execution_count": 7,
   "metadata": {},
   "outputs": [
    {
     "name": "stdout",
     "output_type": "stream",
     "text": [
      "                                             sentence\n",
      "0    Its confrontational lyrics originated in an e...\n",
      "1    Dylan distilled this draft into four verses a...\n",
      "2   During a difficult two-day preproduction, Dyla...\n",
      "3   In the spring of 1965, after returning from th...\n",
      "4   During 1965, Dylan composed prose, poems, and ...\n",
      "5    Footage in Dont Look Back of Dylan in his sui...\n",
      "6    However, Dylan told two interviewers that \"Li...\n",
      "7   [8] Dylan has never publicly spoken of writing...\n",
      "8    In an interview with CBC radio in Montreal, D...\n",
      "9   From the extended version on paper, Dylan craf...\n",
      "10   Earlier, Dylan had considered working the nam...\n",
      "11  For the recording session, Dylan invited Chica...\n",
      "12   Gregg, Griffin, and Langhorne had previously ...\n",
      "13  In the first session, on June 15, five takes o...\n",
      "14   The musicians did not reach the first chorus ...\n",
      "15   When Dylan heard a playback of the song, he i...\n",
      "16  [25] By now the song had evolved into its fami...\n",
      "17  \"[26] Despite this, Dylan and the band recorde...\n",
      "18   When a reporter, suggesting that the song ado...\n",
      "19  [37] Sedgwick was briefly involved with Dylan ...\n",
      "20  [38] According to Warhol's collaborator Paul M...\n",
      "21  [38] However, in The Bob Dylan Encyclopedia, M...\n",
      "22   about \"Like a Rolling Stone\" being about Edie...\n",
      "23  '\"[45] Dylan himself has noted that, after his...\n",
      "24  \"[49] According to Dylan's friend, music criti...\n",
      "25   When Dylan went on tour that fall he asked th...\n",
      "26  \" On May 17, 1966, during the last leg of the ...\n",
      "27             Dylan responded, \"I don't believe you.\n",
      "28  Live performances of the song are included on ...\n",
      "29   4: Bob Dylan Live 1966, The \"Royal Albert Hal...\n",
      "30  Besides appearing on Highway 61 Revisited, the...\n",
      "31   The way that Elvis freed your body, Dylan fre...\n",
      "32  Although CBS tried to make the record more \"ra...\n",
      "33   By defying convention with six and a half min...\n",
      "34  In 1966, Dylan told Ralph Gleason: \"Rolling St...\n",
      "35  \"[78] In 2004, speaking to Robert Hilburn, Dyl...\n",
      "36  [80][81] As for his personal views on such pol...\n",
      "37  [82] Dylan's point was illustrated in the \"100...\n"
     ]
    }
   ],
   "source": [
    "# 3. Try to extract sentences with name \"Dylan\", reason is the same as above.\n",
    "name_list = []\n",
    "name_regex = r'[^.]* Dylan [^.]*\\.'\n",
    "for pTag in contentTag:\n",
    "    temp_list = re.findall(name_regex, str(pTag.text))\n",
    "    \n",
    "    for sentence in temp_list:\n",
    "        name_list.append(sentence)\n",
    "        \n",
    "name_df = pd.DataFrame({'sentence': name_list})\n",
    "print(name_df)"
   ]
  },
  {
   "cell_type": "code",
   "execution_count": 8,
   "metadata": {},
   "outputs": [
    {
     "name": "stdout",
     "output_type": "stream",
     "text": [
      "12\n"
     ]
    }
   ],
   "source": [
    "# 4. Create a very artificial list from Thesaurus as a \"influence\" related list of word and count their occurence.\n",
    "# This is a measure of how Dylan influenced other artists or had an impact on the culture.\n",
    "# It would be better if I can obtain or use ML methods to create a list of words that represents \"influence\".\n",
    "influence_syn = ['influen', 'affect', 'effect', 'impact', 'shape', 'prompt', 'change']\n",
    "influence_sum = 0\n",
    "\n",
    "for pTag in contentTag:\n",
    "    for word in influence_syn:\n",
    "        temp_list = re.findall(word, pTag.text)\n",
    "        influence_sum += len(temp_list)\n",
    "    \n",
    "print(influence_sum)"
   ]
  },
  {
   "cell_type": "code",
   "execution_count": 9,
   "metadata": {},
   "outputs": [
    {
     "name": "stdout",
     "output_type": "stream",
     "text": [
      "                                          symbol_text\n",
      "0                              \"Like a Rolling Stone\"\n",
      "1                              \"Like a Rolling Stone\"\n",
      "2                              \"Like a Rolling Stone\"\n",
      "3          \"How does it feel?\" \"Like a Rolling Stone\"\n",
      "4                              \"Like a Rolling Stone\"\n",
      "5                    \"500 Greatest Songs of All Time\"\n",
      "6                                 \"How does it feel?\"\n",
      "7   \"Like a Rolling Stone\" began as a long piece o...\n",
      "8                                      \"breakthrough\"\n",
      "9   \"like a dog without a bone\" gives way to \"now ...\n",
      "10  \"how does it feel?\", penciling in \"it feels re...\n",
      "11  \"Like a Rolling Stone\", including all 20 takes...\n",
      "12                             \"Like a Rolling Stone\"\n",
      "13           \"[31] The song's subject, \"Miss Lonely,\"\n",
      "14  \"Are you hard on [people in your songs] becaus...\n",
      "15  \"Like a Rolling Stone\" contained hostile refer...\n",
      "16  \"Like a Rolling Stone\", but states \"there's no...\n",
      "17                             \"Like a Rolling Stone\"\n",
      "18  \"it is more likely that the song was aimed gen...\n",
      "19  \"[45] Dylan himself has noted that, after his ...\n",
      "20  \"Like a Rolling Stone\" was first relegated to ...\n",
      "21  \"Like a Rolling Stone\" was released as a singl...\n",
      "22                                            \"Help!\"\n",
      "23                             \"Like a Rolling Stone\"\n",
      "24                             \"Like a Rolling Stone\"\n",
      "25  \"[60] The video contains an hour and 15 minute...\n",
      "26  \"[49] According to Dylan's friend, music criti...\n",
      "27  \"Like a Rolling Stone\" took the closing slot o...\n",
      "28  \"Judas!\", apparently referring to Dylan's supp...\n",
      "29  \" With that, he turned to the band, ordering t...\n",
      "30                             \"Like a Rolling Stone\"\n",
      "31                                \"Royal Albert Hall\"\n",
      "32  \"a chaotic amalgam of blues, impressionism, al...\n",
      "33                             \"Like a Rolling Stone\"\n",
      "34   \"[73] Frank Zappa had a more extreme reaction: \"\n",
      "35  \"What a shocking thing to live in a world wher...\n",
      "36                                   \"radio friendly\"\n",
      "37                             \"Like a Rolling Stone\"\n",
      "38  \"[76] Richard Austin, of Sotheby's auction hou...\n",
      "39  \"[78] In 2004, speaking to Robert Hilburn, Dyl...\n",
      "40                             \"Like a Rolling Stone\"\n",
      "41  \"100 Greatest Songs of All Time poll\" by Mojo ...\n",
      "42  \"Like a Rolling Stone\" as the number two singl...\n",
      "43  \"Like a Rolling Stone\" at the top of their lis...\n",
      "44                  \"200 Greatest Songs of the 1960s\"\n",
      "45                             \"Like a Rolling Stone\"\n",
      "46                             \"Like a Rolling Stone\"\n",
      "47                             \"Like a Rolling Stone\"\n",
      "48  \"Comme des pierres qui roulent\" (\"Like Rolling...\n",
      "49  \"Come una Pietra Scalciata\" (literally, \"Like ...\n"
     ]
    }
   ],
   "source": [
    "# 5. Search for text that is been coated by \"\", which may be album, song or other peoples reference\n",
    "symbol_regex = r'\"[^.]*\"'\n",
    "symbol_list = []\n",
    "\n",
    "for pTag in contentTag:\n",
    "    temp_list = re.findall(symbol_regex, str(pTag.text))\n",
    "    for text in temp_list:\n",
    "        symbol_list.append(text)\n",
    "\n",
    "fifth_df = pd.DataFrame({\"symbol_text\": symbol_list})\n",
    "\n",
    "print(fifth_df)"
   ]
  },
  {
   "cell_type": "code",
   "execution_count": 10,
   "metadata": {},
   "outputs": [
    {
     "name": "stdout",
     "output_type": "stream",
     "text": [
      "      symbol_text\n",
      "0            Like\n",
      "1         Rolling\n",
      "2           Stone\n",
      "3        American\n",
      "4             Bob\n",
      "..            ...\n",
      "973         Stone\n",
      "974  Nessuno.[123\n",
      "975      Articolo\n",
      "976         DJing\n",
      "977          This\n",
      "\n",
      "[978 rows x 1 columns]\n"
     ]
    }
   ],
   "source": [
    "# 6. Search for text that starts with uppercase. \n",
    "# This cannot deal with the fact that some might be the start of sentence,\n",
    "# and it is very premature 1-gram, therefore needs advanced ways to deal with.\n",
    "uppercase_regex = r'\\b[A-Z]+\\S+\\b'\n",
    "uppercase_list = []\n",
    "\n",
    "for pTag in contentTag:\n",
    "    temp_list = re.findall(uppercase_regex, str(pTag.text))\n",
    "    for text in temp_list:\n",
    "        uppercase_list.append(text)\n",
    "\n",
    "uppercase_df = pd.DataFrame({\"symbol_text\": uppercase_list})\n",
    "\n",
    "print(uppercase_df)"
   ]
  },
  {
   "cell_type": "code",
   "execution_count": null,
   "metadata": {},
   "outputs": [],
   "source": [
    "# FAIL ATTEMPTS\n",
    "'''\n",
    "lyrics_path = requests.get('https://www.bobdylan.com/songs/rolling-stone/')\n",
    "lyrics_cleaned = bs4.BeautifulSoup(lyrics_path.text, 'html.parser')\n",
    "# After inspecting the webpage, I find the class of div where they put lyric contents. \n",
    "contentTag = lyrics_cleaned.body.findAll('div', class_=\"article-content lyrics\")\n",
    "'''"
   ]
  },
  {
   "cell_type": "markdown",
   "metadata": {},
   "source": [
    "### Failures:\n",
    "1. Not all webpages are written so that one can easily apply beautifulsoop. I originally wanted to use data from Genius or Bob Dylans official website, yet it seems like they structured their website a bit too sophisticated for me to decompose in this homework.\n",
    "2. In the number case, some hyperlinks in the paragraph which may contain information we want to extract sometimes is hard to get, need to try to get around it. Also some regex needs to be dealt and thought through carefully."
   ]
  },
  {
   "cell_type": "markdown",
   "metadata": {},
   "source": [
    "\n",
    "# Spidering\n",
    "\n",
    "What if we want to to get a bunch of different pages from wikipedia. We would\n",
    "need to get the url for each of the pages we want. Typically, we want pages that\n",
    "are linked to by other pages and so we will need to parse pages and identify the\n",
    "links. Right now we will be retrieving all links in the body of the content\n",
    "analysis page.\n",
    "\n",
    "To do this we will need to find all the `<a>` (anchor) tags with `href`s\n",
    "(hyperlink references) inside of `<p>` tags. `href` can have many\n",
    "[different](http://stackoverflow.com/questions/4855168/what-is-href-and-why-is-\n",
    "it-used) [forms](https://en.wikipedia.org/wiki/Hyperlink#Hyperlinks_in_HTML) so\n",
    "dealing with them can be tricky, but generally, you will want to extract\n",
    "absolute or relative links. An absolute link is one you can follow without\n",
    "modification, while a relative link requires a base url that you will then\n",
    "append. Wikipedia uses relative urls for its internal links: below is an example\n",
    "for dealing with them."
   ]
  },
  {
   "cell_type": "code",
   "execution_count": null,
   "metadata": {},
   "outputs": [],
   "source": [
    "#wikipedia_base_url = 'https://en.wikipedia.org'\n",
    "\n",
    "otherPAgeURLS = []\n",
    "#We also want to know where the links come from so we also will get:\n",
    "#the paragraph number\n",
    "#the word the link is in\n",
    "for paragraphNum, pTag in enumerate(contentPTags):\n",
    "    #we only want hrefs that link to wiki pages\n",
    "    tagLinks = pTag.findAll('a', href=re.compile('/wiki/'), class_=False)\n",
    "    for aTag in tagLinks:\n",
    "        #We need to extract the url from the <a> tag\n",
    "        relurl = aTag.get('href')\n",
    "        linkText = aTag.text\n",
    "        #wikipedia_base_url is the base we can use the urllib joining function to merge them\n",
    "        #Giving a nice structured tupe like this means we can use tuple expansion later\n",
    "        otherPAgeURLS.append((\n",
    "            urllib.parse.urljoin(wikipedia_base_url, relurl),\n",
    "            paragraphNum,\n",
    "            linkText,\n",
    "        ))\n",
    "print(otherPAgeURLS[:10])"
   ]
  },
  {
   "cell_type": "markdown",
   "metadata": {},
   "source": [
    "Another excursion: Why do we use enumerate() here? enumerate() takes a collection, enumerates, and returns an enumate object with both the numbers and the collection. For example, contentPTags (the collection we used here) is comprised of paragraphs. We want the paragraph number of each paragraph. And this is what enumerate() does: it returns the paragraph number and the paragraph. "
   ]
  },
  {
   "cell_type": "markdown",
   "metadata": {},
   "source": [
    "We will be adding these new texts to our DataFrame `contentParagraphsDF` so we\n",
    "will need to add 2 more columns to keep track of paragraph numbers and sources."
   ]
  },
  {
   "cell_type": "code",
   "execution_count": null,
   "metadata": {},
   "outputs": [],
   "source": [
    "# The source column is a rather artificial add, which add the same parent link to each block\n",
    "contentParagraphsDF['source'] = [wikipedia_content_analysis] * len(contentParagraphsDF['paragraph-text'])\n",
    "contentParagraphsDF['paragraph-number'] = range(len(contentParagraphsDF['paragraph-text']))\n",
    "\n",
    "contentParagraphsDF"
   ]
  },
  {
   "cell_type": "markdown",
   "metadata": {},
   "source": [
    "Then we can add two more columns to our `Dataframe` and define a function to\n",
    "parse\n",
    "each linked page and add its text to our DataFrame."
   ]
  },
  {
   "cell_type": "code",
   "execution_count": 12,
   "metadata": {},
   "outputs": [],
   "source": [
    "#contentParagraphsDF['source-paragraph-number'] = [None] * len(contentParagraphsDF['paragraph-text'])\n",
    "#contentParagraphsDF['source-paragraph-text'] = [None] * len(contentParagraphsDF['paragraph-text'])\n",
    "\n",
    "def getTextFromWikiPage(targetURL, sourceParNum, sourceText):\n",
    "    #Make a dict to store data before adding it to the DataFrame\n",
    "    parsDict = {'source' : [], 'paragraph-number' : [], 'paragraph-text' : [], 'source-paragraph-number' : [],  'source-paragraph-text' : []}\n",
    "    #Now we get the page\n",
    "    r = requests.get(targetURL)\n",
    "    soup = bs4.BeautifulSoup(r.text, 'html.parser')\n",
    "    #enumerating gives use the paragraph number\n",
    "    for parNum, pTag in enumerate(soup.body.findAll('p')):\n",
    "        #same regex as before\n",
    "        parsDict['paragraph-text'].append(re.sub(r'\\[\\d+\\]', '', pTag.text))\n",
    "        parsDict['paragraph-number'].append(parNum)\n",
    "        parsDict['source'].append(targetURL)\n",
    "        parsDict['source-paragraph-number'].append(sourceParNum)\n",
    "        parsDict['source-paragraph-text'].append(sourceText)\n",
    "    return pd.DataFrame(parsDict)"
   ]
  },
  {
   "cell_type": "markdown",
   "metadata": {},
   "source": [
    "And run it on our list of link tags"
   ]
  },
  {
   "cell_type": "code",
   "execution_count": null,
   "metadata": {},
   "outputs": [],
   "source": [
    "for urlTuple in otherPAgeURLS[:3]:\n",
    "    #ignore_index means the indices will not be reset after each append\n",
    "    contentParagraphsDF = contentParagraphsDF.append(getTextFromWikiPage(*urlTuple),ignore_index=True)\n",
    "contentParagraphsDF"
   ]
  },
  {
   "cell_type": "markdown",
   "metadata": {},
   "source": [
    "\n",
    "# <span style=\"color:red\">Section 2</span>\n",
    "<span style=\"color:red\">Construct cells immediately below this that spider webcontent from another site with content relating to your anticipated final project. Specifically, identify urls on a core page, then follow and extract content from them into a pandas `Dataframe`. In addition, demonstrate a *recursive* spider, which follows more than one level of links (i.e., follows links from a site, then follows links on followed sites to new sites, etc.), making sure to define a reasonable endpoint so that you do not wander the web forever :-).</span>\n",
    "\n"
   ]
  },
  {
   "cell_type": "code",
   "execution_count": 13,
   "metadata": {},
   "outputs": [
    {
     "name": "stdout",
     "output_type": "stream",
     "text": [
      "                                                  link  song_number  \\\n",
      "0    https://www.bobdylan.com/songs/cross-green-mou...          0.0   \n",
      "1    https://www.bobdylan.com/songs/til-i-fell-love...          1.0   \n",
      "2            https://www.bobdylan.com/songs/10000-men/          2.0   \n",
      "3    https://www.bobdylan.com/songs/2-dollars-and-9...          3.0   \n",
      "4                https://www.bobdylan.com/songs/2-x-2/          4.0   \n",
      "..                                                 ...          ...   \n",
      "697  https://www.bobdylan.com/songs/youre-gonna-qui...        697.0   \n",
      "698      https://www.bobdylan.com/songs/youre-no-good/        698.0   \n",
      "699     https://www.bobdylan.com/songs/young-at-heart/        699.0   \n",
      "700  https://www.bobdylan.com/songs/young-daily-gro...        700.0   \n",
      "701  https://www.bobdylan.com/songs/your-cheatin-he...        701.0   \n",
      "\n",
      "                        song_name  \n",
      "0       ‘Cross the Green Mountain  \n",
      "1    ‘Til I Fell in Love with You  \n",
      "2                      10,000 Men  \n",
      "3          2 Dollars and 99 Cents  \n",
      "4                           2 X 2  \n",
      "..                            ...  \n",
      "697          You’re Gonna Quit Me  \n",
      "698                You’re No Good  \n",
      "699                Young at Heart  \n",
      "700       Young But Daily Growing  \n",
      "701           Your Cheatin’ Heart  \n",
      "\n",
      "[702 rows x 3 columns]\n"
     ]
    }
   ],
   "source": [
    "# Do something related to lyrics, like scrapping Bob Dylans lyrics.\n",
    "\n",
    "parent_link = 'https://www.bobdylan.com/songs/'\n",
    "parent_link_request = requests.get(parent_link)\n",
    "\n",
    "child_link = []\n",
    "\n",
    "lyrics_cleaned = bs4.BeautifulSoup(parent_link_request.text, 'html.parser')\n",
    "contentTag = lyrics_cleaned.body.findAll('a')\n",
    "song_num = 0\n",
    "\n",
    "# Match using href links\n",
    "for aTag in contentTag:\n",
    "    if re.match(parent_link, aTag.attrs['href']):\n",
    "        # This line is designed to filter out repeating links\n",
    "        if aTag.text == ' ':\n",
    "            continue\n",
    "            \n",
    "        child_link.append((\n",
    "            aTag.attrs['href'],\n",
    "            song_num,\n",
    "            aTag.text\n",
    "        ))\n",
    "        \n",
    "        song_num += 1\n",
    "\n",
    "lyrics_df = pd.DataFrame({\"link\": [], \"song_number\": [], \"song_name\": []})\n",
    "for tup in child_link:\n",
    "    lyrics_df.loc[len(lyrics_df)] = list(tup)\n",
    "    \n",
    "print(lyrics_df)"
   ]
  },
  {
   "cell_type": "code",
   "execution_count": null,
   "metadata": {},
   "outputs": [],
   "source": [
    "def getTextFromWikiPage(targetURL, sourceParNum, sourceText):\n",
    "    #Make a dict to store data before adding it to the DataFrame\n",
    "    parsDict = {'source' : [], 'paragraph-number' : [], 'paragraph-text' : [], 'source-paragraph-number' : [],  'source-paragraph-text' : []}\n",
    "    #Now we get the page\n",
    "    r = requests.get(targetURL)\n",
    "    soup = bs4.BeautifulSoup(r.text, 'html.parser')\n",
    "    #enumerating gives use the paragraph number\n",
    "    for parNum, pTag in enumerate(soup.body.findAll('p')):\n",
    "        #same regex as before\n",
    "        parsDict['paragraph-text'].append(re.sub(r'\\[\\d+\\]', '', pTag.text))\n",
    "        parsDict['paragraph-number'].append(parNum)\n",
    "        parsDict['source'].append(targetURL)\n",
    "        parsDict['source-paragraph-number'].append(sourceParNum)\n",
    "        parsDict['source-paragraph-text'].append(sourceText)\n",
    "    return pd.DataFrame(parsDict)"
   ]
  },
  {
   "cell_type": "code",
   "execution_count": 14,
   "metadata": {},
   "outputs": [
    {
     "name": "stdout",
     "output_type": "stream",
     "text": [
      "                                       paragraph-text            source  \\\n",
      "0   \"Like a Rolling Stone\" is a song by American s...  <Response [200]>   \n",
      "1   During a difficult two-day preproduction, Dyla...  <Response [200]>   \n",
      "2   Critics have described the track as revolution...  <Response [200]>   \n",
      "3   In the spring of 1965, after returning from th...  <Response [200]>   \n",
      "4   The song grew out of an extended piece of vers...  <Response [200]>   \n",
      "5   It was ten pages long. It wasn't called anythi...  <Response [200]>   \n",
      "6   During 1965, Dylan composed prose, poems, and ...  <Response [200]>   \n",
      "7   From the extended version on paper, Dylan craf...  <Response [200]>   \n",
      "8   For the recording session, Dylan invited Chica...  <Response [200]>   \n",
      "9   The recording sessions were produced by Tom Wi...  <Response [200]>   \n",
      "10  In the first session, on June 15, five takes o...  <Response [200]>   \n",
      "11  When the musicians reconvened the following da...  <Response [200]>   \n",
      "12  There were 15 recorded takes on June 16. By no...  <Response [200]>   \n",
      "13  The complete recording sessions that produced ...  <Response [200]>   \n",
      "14  Unlike conventional chart hits of the time, \"L...  <Response [200]>   \n",
      "15  Once upon a time you dressed so fine\\nThrew th...  <Response [200]>   \n",
      "16  And the first verse ends with lines that seemi...  <Response [200]>   \n",
      "17  Now you don't talk so loud\\nNow you don't seem...  <Response [200]>   \n",
      "18  Despite the obvious vitriol, the song's narrat...  <Response [200]>   \n",
      "19  When you ain't got nothing, you got nothing to...  <Response [200]>   \n",
      "20     The refrain seems to emphasize these themes:\\n  <Response [200]>   \n",
      "21  How does it feel\\nHow does it feel\\nTo be on y...  <Response [200]>   \n",
      "22  Dylan biographer Robert Shelton gave this inte...  <Response [200]>   \n",
      "23  Dylan humorously commented on the song's moral...  <Response [200]>   \n",
      "24  Commentators attempted to tie the characters i...  <Response [200]>   \n",
      "25  Greil Marcus alluded to a suggestion by art hi...  <Response [200]>   \n",
      "26  \\nI heard a lecture by Thomas Crow ... about \"...  <Response [200]>   \n",
      "27  Joan Baez, Marianne Faithfull and Bob Neuwirth...  <Response [200]>   \n",
      "28  Mike Marqusee has written at length on the con...  <Response [200]>   \n",
      "29  According to Shaun Considine, release coordina...  <Response [200]>   \n",
      "30  Despite its length, the song is Dylan's most c...  <Response [200]>   \n",
      "31  In November 2013, forty-eight years after the ...  <Response [200]>   \n",
      "32  Dylan performed the song live for the first ti...  <Response [200]>   \n",
      "33  Highway 61 Revisited was issued at the end of ...  <Response [200]>   \n",
      "34  Since then, \"Like a Rolling Stone\" has remaine...  <Response [200]>   \n",
      "35  Live performances of the song are included on ...  <Response [200]>   \n",
      "36  The July 1965 Newport performance of the song ...  <Response [200]>   \n",
      "37  Besides appearing on Highway 61 Revisited, the...  <Response [200]>   \n",
      "38  The song's sound has been described as revolut...  <Response [200]>   \n",
      "39  Dylan had been famous, had been the center of ...  <Response [200]>   \n",
      "40  Paul Rothchild, producer of The Doors' first f...  <Response [200]>   \n",
      "41  The song had a huge impact on Bruce Springstee...  <Response [200]>   \n",
      "42  The first time I heard Bob Dylan, I was in the...  <Response [200]>   \n",
      "43  Dylan's contemporaries in 1965 were both start...  <Response [200]>   \n",
      "44  Although CBS tried to make the record more \"ra...  <Response [200]>   \n",
      "45  In 1966, Dylan told Ralph Gleason: \"Rolling St...  <Response [200]>   \n",
      "46  More than 50 years since its release, \"Like a ...  <Response [200]>   \n",
      "47  On June 24, 2014, Sotheby's sold Dylan's origi...  <Response [200]>   \n",
      "48  Many artists have covered \"Like a Rolling Ston...  <Response [200]>   \n",
      "49  Guitarist Jimi Hendrix, performing with The Ji...  <Response [200]>   \n",
      "\n",
      "    paragraph-number  source-paragraph-number source-paragraph-text  \n",
      "0                  0                      NaN                   NaN  \n",
      "1                  1                      NaN                   NaN  \n",
      "2                  2                      NaN                   NaN  \n",
      "3                  3                      NaN                   NaN  \n",
      "4                  4                      NaN                   NaN  \n",
      "5                  5                      NaN                   NaN  \n",
      "6                  6                      NaN                   NaN  \n",
      "7                  7                      NaN                   NaN  \n",
      "8                  8                      NaN                   NaN  \n",
      "9                  9                      NaN                   NaN  \n",
      "10                10                      NaN                   NaN  \n",
      "11                11                      NaN                   NaN  \n",
      "12                12                      NaN                   NaN  \n",
      "13                13                      NaN                   NaN  \n",
      "14                14                      NaN                   NaN  \n",
      "15                15                      NaN                   NaN  \n",
      "16                16                      NaN                   NaN  \n",
      "17                17                      NaN                   NaN  \n",
      "18                18                      NaN                   NaN  \n",
      "19                19                      NaN                   NaN  \n",
      "20                20                      NaN                   NaN  \n",
      "21                21                      NaN                   NaN  \n",
      "22                22                      NaN                   NaN  \n",
      "23                23                      NaN                   NaN  \n",
      "24                24                      NaN                   NaN  \n",
      "25                25                      NaN                   NaN  \n",
      "26                26                      NaN                   NaN  \n",
      "27                27                      NaN                   NaN  \n",
      "28                28                      NaN                   NaN  \n",
      "29                29                      NaN                   NaN  \n",
      "30                30                      NaN                   NaN  \n",
      "31                31                      NaN                   NaN  \n",
      "32                32                      NaN                   NaN  \n",
      "33                33                      NaN                   NaN  \n",
      "34                34                      NaN                   NaN  \n",
      "35                35                      NaN                   NaN  \n",
      "36                36                      NaN                   NaN  \n",
      "37                37                      NaN                   NaN  \n",
      "38                38                      NaN                   NaN  \n",
      "39                39                      NaN                   NaN  \n",
      "40                40                      NaN                   NaN  \n",
      "41                41                      NaN                   NaN  \n",
      "42                42                      NaN                   NaN  \n",
      "43                43                      NaN                   NaN  \n",
      "44                44                      NaN                   NaN  \n",
      "45                45                      NaN                   NaN  \n",
      "46                46                      NaN                   NaN  \n",
      "47                47                      NaN                   NaN  \n",
      "48                48                      NaN                   NaN  \n",
      "49                49                      NaN                   NaN  \n"
     ]
    }
   ],
   "source": [
    "# Recursive on \"Like a Rolling Stone\" Wikipedia page\n",
    "lyrics_path = requests.get('https://en.wikipedia.org/wiki/Like_a_Rolling_Stone')\n",
    "lyrics_cleaned = bs4.BeautifulSoup(lyrics_path.text, 'html.parser')\n",
    "contentTag = lyrics_cleaned.body.findAll('p')\n",
    "\n",
    "contentParagraphs = []\n",
    "for pTag in contentTag:\n",
    "    # The re.sub function here is to substitute the first input with second input, and the third is the main text\n",
    "    contentParagraphs.append(re.sub(r'\\[\\d+\\]', '', pTag.text))\n",
    "    \n",
    "otherPAgeURLS = []\n",
    "#We also want to know where the links come from so we also will get:\n",
    "#the paragraph number\n",
    "#the word the link is in\n",
    "for paragraphNum, pTag in enumerate(contentTag):\n",
    "    #we only want hrefs that link to wiki pages\n",
    "    tagLinks = pTag.findAll('a', href=re.compile('/wiki/'), class_=False)\n",
    "    for aTag in tagLinks:\n",
    "        #We need to extract the url from the <a> tag\n",
    "        relurl = aTag.get('href')\n",
    "        linkText = aTag.text\n",
    "        #wikipedia_base_url is the base we can use the urllib joining function to merge them\n",
    "        #Giving a nice structured tupe like this means we can use tuple expansion later\n",
    "        otherPAgeURLS.append((\n",
    "            urllib.parse.urljoin(wikipedia_base_url, relurl),\n",
    "            paragraphNum,\n",
    "            linkText,\n",
    "        ))\n",
    "\n",
    "contentParagraphsDF = pd.DataFrame({'paragraph-text' : contentParagraphs})\n",
    "contentParagraphsDF['source'] = [lyrics_path] * len(contentParagraphsDF['paragraph-text'])\n",
    "contentParagraphsDF['paragraph-number'] = range(len(contentParagraphsDF['paragraph-text']))\n",
    "\n",
    "for urlTuple in otherPAgeURLS:\n",
    "    #ignore_index means the indices will not be reset after each append\n",
    "    contentParagraphsDF = contentParagraphsDF.append(getTextFromWikiPage(*urlTuple),ignore_index=True)\n",
    "\n",
    "print(contentParagraphsDF[:50])\n",
    "\n",
    "# In this setting, there's some case that returns Response [200], which can be fixed by altering the original function\n",
    "# Or we can just filter directly with source column regex matching"
   ]
  },
  {
   "cell_type": "markdown",
   "metadata": {},
   "source": [
    "## API (Tumblr)\n",
    "\n",
    "Generally website owners do not like you scraping their sites. If done badly,\n",
    "scarping can act like a DOS attack so you should be careful how often you make\n",
    "calls to a site. Some sites want automated tools to access their data, so they\n",
    "create [application programming interface\n",
    "(APIs)](https://en.wikipedia.org/wiki/Application_programming_interface). An API\n",
    "specifies a procedure for an application (or script) to access their data. Often\n",
    "this is though a [representational state transfer\n",
    "(REST)](https://en.wikipedia.org/wiki/Representational_state_transfer) web\n",
    "service, which just means if you make correctly formatted HTTP requests they\n",
    "will return nicely formatted data.\n",
    "\n",
    "A nice example for us to study is [Tumblr](https://www.tumblr.com), they have a\n",
    "[simple RESTful API](https://www.tumblr.com/docs/en/api/v1) that allows you to\n",
    "read posts without any complicated html parsing.\n",
    "\n",
    "We can get the first 20 posts from a blog by making an http GET request to\n",
    "`'http://{blog}.tumblr.com/api/read/json'`, were `{blog}` is the name of the\n",
    "target blog. Lets try and get the posts from [http://lolcats-lol-\n",
    "cat.tumblr.com/](http://lolcats-lol-cat.tumblr.com/) (Note the blog says at the\n",
    "top 'One hour one pic lolcats', but the canonical name that Tumblr uses is in\n",
    "the URL 'lolcats-lol-cat')."
   ]
  },
  {
   "cell_type": "code",
   "execution_count": null,
   "metadata": {},
   "outputs": [],
   "source": [
    "tumblrAPItarget = 'http://{}.tumblr.com/api/read/json'\n",
    "\n",
    "r = requests.get(tumblrAPItarget.format('lolcats-lol-cat'))\n",
    "\n",
    "print(r.text[:1000])"
   ]
  },
  {
   "cell_type": "markdown",
   "metadata": {},
   "source": [
    "This might not look very good on first inspection, but it has far fewer angle\n",
    "braces than html, which makes it easier to parse. What we have is\n",
    "[JSON](https://en.wikipedia.org/wiki/JSON) a 'human readable' text based data\n",
    "transmission format based on javascript. Luckily, we can readily convert it to a\n",
    "python `dict`."
   ]
  },
  {
   "cell_type": "code",
   "execution_count": null,
   "metadata": {},
   "outputs": [],
   "source": [
    "#We need to load only the stuff between the curly braces\n",
    "d = json.loads(r.text[len('var tumblr_api_read = '):-2])\n",
    "print(d.keys())\n",
    "print(len(d['posts']))"
   ]
  },
  {
   "cell_type": "markdown",
   "metadata": {},
   "source": [
    "If we read the [API specification](https://www.tumblr.com/docs/en/api/v1), we\n",
    "will see there are a lot of things we can get if we add things to our GET\n",
    "request. First we can retrieve posts by their id number. Let's first get post\n",
    "`146020177084`."
   ]
  },
  {
   "cell_type": "code",
   "execution_count": null,
   "metadata": {},
   "outputs": [],
   "source": [
    "r = requests.get(tumblrAPItarget.format('lolcats-lol-cat'), params = {'id' : 146020177084})\n",
    "d = json.loads(r.text[len('var tumblr_api_read = '):-2])\n",
    "d['posts'][0].keys()\n",
    "d['posts'][0]['photo-url-1280']\n",
    "\n",
    "with open('lolcat.gif', 'wb') as f:\n",
    "    gifRequest = requests.get(d['posts'][0]['photo-url-1280'], stream = True)\n",
    "    f.write(gifRequest.content)"
   ]
  },
  {
   "cell_type": "markdown",
   "metadata": {},
   "source": [
    "<img src='lolcat.gif'>\n",
    "\n",
    "Such beauty; such vigor (If you can't see it you have to refresh the page). Now\n",
    "we could retrieve the text from all posts as well\n",
    "as related metadata, like the post date, caption or tags. We could also get\n",
    "links to all the images."
   ]
  },
  {
   "cell_type": "code",
   "execution_count": null,
   "metadata": {},
   "outputs": [],
   "source": [
    "#Putting a max in case the blog has millions of images\n",
    "#The given max will be rounded up to the nearest multiple of 50\n",
    "def tumblrImageScrape(blogName, maxImages = 200):\n",
    "    #Restating this here so the function isn't dependent on any external variables\n",
    "    tumblrAPItarget = 'http://{}.tumblr.com/api/read/json'\n",
    "\n",
    "    #There are a bunch of possible locations for the photo url\n",
    "    possiblePhotoSuffixes = [1280, 500, 400, 250, 100]\n",
    "\n",
    "    #These are the pieces of information we will be gathering,\n",
    "    #at the end we will convert this to a DataFrame.\n",
    "    #There are a few other datums we could gather like the captions\n",
    "    #you can read the Tumblr documentation to learn how to get them\n",
    "    #https://www.tumblr.com/docs/en/api/v1\n",
    "    postsData = {\n",
    "        'id' : [],\n",
    "        'photo-url' : [],\n",
    "        'date' : [],\n",
    "        'tags' : [],\n",
    "        'photo-type' : []\n",
    "    }\n",
    "\n",
    "    #Tumblr limits us to a max of 50 posts per request\n",
    "    for requestNum in range(maxImages // 50):\n",
    "        requestParams = {\n",
    "            'start' : requestNum * 50,\n",
    "            'num' : 50,\n",
    "            'type' : 'photo'\n",
    "        }\n",
    "        r = requests.get(tumblrAPItarget.format(blogName), params = requestParams)\n",
    "        requestDict = json.loads(r.text[len('var tumblr_api_read = '):-2])\n",
    "        for postDict in requestDict['posts']:\n",
    "            #We are dealing with uncleaned data, we can't trust it.\n",
    "            #Specifically, not all posts are guaranteed to have the fields we want\n",
    "            try:\n",
    "                postsData['id'].append(postDict['id'])\n",
    "                postsData['date'].append(postDict['date'])\n",
    "                postsData['tags'].append(postDict['tags'])\n",
    "            except KeyError as e:\n",
    "                raise KeyError(\"Post {} from {} is missing: {}\".format(postDict['id'], blogName, e))\n",
    "\n",
    "            foundSuffix = False\n",
    "            for suffix in possiblePhotoSuffixes:\n",
    "                try:\n",
    "                    photoURL = postDict['photo-url-{}'.format(suffix)]\n",
    "                    postsData['photo-url'].append(photoURL)\n",
    "                    postsData['photo-type'].append(photoURL.split('.')[-1])\n",
    "                    foundSuffix = True\n",
    "                    break\n",
    "                except KeyError:\n",
    "                    pass\n",
    "            if not foundSuffix:\n",
    "                #Make sure your error messages are useful\n",
    "                #You will be one of the users\n",
    "                raise KeyError(\"Post {} from {} is missing a photo url\".format(postDict['id'], blogName))\n",
    "\n",
    "    return pd.DataFrame(postsData)\n",
    "tumblrImageScrape('lolcats-lol-cat', 50)"
   ]
  },
  {
   "cell_type": "markdown",
   "metadata": {},
   "source": [
    "Now we have the urls of a bunch of images and can run OCR on them to gather\n",
    "compelling meme narratives, accompanied by cats.\n",
    "\n",
    "# Files\n",
    "\n",
    "What if the text we want isn't on a webpage? There are a many other sources of\n",
    "text available, typically organized into *files*.\n",
    "\n",
    "## Raw text (and encoding)\n",
    "\n",
    "The most basic form of storing text is as a _raw text_ document. Source code\n",
    "(`.py`, `.r`, etc) is usually raw text as are text files (`.txt`) and those with\n",
    "many other extension (e.g., .csv, .dat, etc.). Opening an unknown file with a\n",
    "text editor is often a great way of learning what the file is.\n",
    "\n",
    "We can create a text file in python with the `open()` function"
   ]
  },
  {
   "cell_type": "code",
   "execution_count": null,
   "metadata": {},
   "outputs": [],
   "source": [
    "#example_text_file = 'sometextfile.txt'\n",
    "#stringToWrite = 'A line\\nAnother line\\nA line with a few unusual symbols \\u2421 \\u241B \\u20A0 \\u20A1 \\u20A2 \\u20A3 \\u0D60\\n'\n",
    "stringToWrite = 'A line\\nAnother line\\nA line with a few unusual symbols ␡ ␛ ₠ ₡ ₢ ₣ ൠ\\n'\n",
    "\n",
    "with open(example_text_file, mode = 'w', encoding='utf-8') as f:\n",
    "    f.write(stringToWrite)"
   ]
  },
  {
   "cell_type": "markdown",
   "metadata": {},
   "source": [
    "Notice the `encoding='utf-8'` argument, which specifies how we map the bits from\n",
    "the file to the glyphs (and whitespace characters like tab (`'\\t'`) or newline\n",
    "(`'\\n'`)) on the screen. When dealing only with latin letters, arabic numerals\n",
    "and the other symbols on America keyboards you usually do not have to worry\n",
    "about encodings as the ones used today are backwards compatible with\n",
    "[ASCII](https://en.wikipedia.org/wiki/ASCII), which gives the binary\n",
    "representation of 128 characters.\n",
    "\n",
    "Some of you, however, will want to use other characters (e.g., Chinese\n",
    "characters). To solve this there is\n",
    "[Unicode](https://en.wikipedia.org/wiki/Unicode) which assigns numbers to\n",
    "symbols, e.g., 041 is `'A'` and 03A3 is `'Σ'` (numbers starting with 0 are\n",
    "hexadecimal). Often non/beyond-ASCII characters are called Unicode characters.\n",
    "Unicode contains 1,114,112 characters, about 10\\% of which have been assigned.\n",
    "Unfortunately there are many ways used to map combinations of bits to Unicode\n",
    "symbols. The ones you are likely to encounter are called by Python _utf-8_,\n",
    "_utf-16_ and _latin-1_. _utf-8_ is the standard for Linux and Mac OS while both\n",
    "_utf-16_ and _latin-1_ are used by windows. If you use the wrong encoding,\n",
    "characters can appear wrong, sometimes change in number or Python could raise an\n",
    "exception. Lets see what happens when we open the file we just created with\n",
    "different encodings."
   ]
  },
  {
   "cell_type": "code",
   "execution_count": null,
   "metadata": {},
   "outputs": [],
   "source": [
    "with open(example_text_file, encoding='utf-8') as f:\n",
    "    print(\"This is with the correct encoding:\")\n",
    "    print(f.read())\n",
    "\n",
    "with open(example_text_file, encoding='latin-1') as f:\n",
    "    print(\"This is with the wrong encoding:\")\n",
    "    print(f.read())"
   ]
  },
  {
   "cell_type": "markdown",
   "metadata": {},
   "source": [
    "Notice that with _latin-1_ the unicode characters are mixed up and there are too\n",
    "many of them. You need to keep in mind encoding when obtaining text files.\n",
    "Determining the encoding can sometime involve substantial work."
   ]
  },
  {
   "cell_type": "markdown",
   "metadata": {},
   "source": [
    "We can also load many text files at once. Lets start by looking at the Shakespeare files in the `data` directory "
   ]
  },
  {
   "cell_type": "code",
   "execution_count": null,
   "metadata": {},
   "outputs": [],
   "source": [
    "with open('./data/Shakespeare/midsummer_nights_dream.txt') as f:\n",
    "    midsummer = f.read()\n",
    "print(midsummer[-700:])"
   ]
  },
  {
   "cell_type": "markdown",
   "metadata": {},
   "source": [
    "By the way, depending on your working directory, you might get errors such as: [Errno 2] No such file or directory: '../data/Shakespeare/midsummer_nights_dream.txt.' Don't panic, it's nothing, just check your working directory. \n",
    "\n",
    "Then to load all the files in `./data/Shakespeare` we can use a for loop with `scandir`:"
   ]
  },
  {
   "cell_type": "code",
   "execution_count": null,
   "metadata": {},
   "outputs": [],
   "source": [
    "targetDir = './data/Shakespeare' #Change this to your own directory of texts\n",
    "shakespearText = []\n",
    "shakespearFileName = []\n",
    "\n",
    "for file in (file for file in os.scandir(targetDir) if file.is_file() and not file.name.startswith('.')):\n",
    "    with open(file.path, encoding=\"utf-8\") as f:\n",
    "        shakespearText.append(f.read())\n",
    "    shakespearFileName.append(file.name)"
   ]
  },
  {
   "cell_type": "markdown",
   "metadata": {},
   "source": [
    "Then we can put them all in pandas DataFrame"
   ]
  },
  {
   "cell_type": "code",
   "execution_count": null,
   "metadata": {},
   "outputs": [],
   "source": [
    "shakespear_df = pd.DataFrame({'text' : shakespearText}, index = shakespearFileName)\n",
    "shakespear_df"
   ]
  },
  {
   "cell_type": "markdown",
   "metadata": {},
   "source": [
    "Getting your text in a format like this is the first step of most analysis"
   ]
  },
  {
   "cell_type": "markdown",
   "metadata": {},
   "source": [
    "## PDF\n",
    "\n",
    "Another common way text will be stored is in a PDF file. First we will download\n",
    "a pdf in Python. To do that lets grab a chapter from\n",
    "_Speech and Language Processing_, chapter 21 is on Information Extraction which\n",
    "seems apt. It is stored as a pdf at [https://web.stanford.edu/~jurafsky/slp3/21.\n",
    "pdf](https://web.stanford.edu/~jurafsky/slp3/21.pdf) although we are downloading\n",
    "from a copy just in case Jurafsky changes their website."
   ]
  },
  {
   "cell_type": "code",
   "execution_count": null,
   "metadata": {},
   "outputs": [],
   "source": [
    "#information_extraction_pdf = 'https://github.com/KnowledgeLab/content_analysis/raw/data/21.pdf'\n",
    "\n",
    "infoExtractionRequest = requests.get(information_extraction_pdf, stream=True)\n",
    "print(infoExtractionRequest.text[:1000])"
   ]
  },
  {
   "cell_type": "markdown",
   "metadata": {},
   "source": [
    "It says `'pdf'`, so thats a good sign. The rest though looks like we are having\n",
    "issues with an encoding. The random characters are not caused by our encoding\n",
    "being wrong, however. They are cause by there not being an encoding for those\n",
    "parts at all. PDFs are nominally binary files, meaning there are sections of\n",
    "binary that are specific to pdf and nothing else so you need something that\n",
    "knows about pdf to read them. To do that we will be using\n",
    "[`PyPDF2`](https://github.com/mstamy2/PyPDF2), a PDF processing library for\n",
    "Python 3.\n",
    "\n",
    "\n",
    "Because PDFs are a very complicated file format pdfminer requires a large amount\n",
    "of boilerplate code to extract text, we have written a function that takes in an\n",
    "open PDF file and returns the text so you don't have to."
   ]
  },
  {
   "cell_type": "code",
   "execution_count": null,
   "metadata": {},
   "outputs": [],
   "source": [
    "def readPDF(pdfFile):\n",
    "    #Based on code from http://stackoverflow.com/a/20905381/4955164\n",
    "    #Using utf-8, if there are a bunch of random symbols try changing this\n",
    "    codec = 'utf-8'\n",
    "    rsrcmgr = pdfminer.pdfinterp.PDFResourceManager()\n",
    "    retstr = io.StringIO()\n",
    "    layoutParams = pdfminer.layout.LAParams()\n",
    "    device = pdfminer.converter.TextConverter(rsrcmgr, retstr, laparams = layoutParams, codec = codec)\n",
    "    #We need a device and an interpreter\n",
    "    interpreter = pdfminer.pdfinterp.PDFPageInterpreter(rsrcmgr, device)\n",
    "    password = ''\n",
    "    maxpages = 0\n",
    "    caching = True\n",
    "    pagenos=set()\n",
    "    for page in pdfminer.pdfpage.PDFPage.get_pages(pdfFile, pagenos, maxpages=maxpages, password=password,caching=caching, check_extractable=True):\n",
    "        interpreter.process_page(page)\n",
    "    device.close()\n",
    "    returnedString = retstr.getvalue()\n",
    "    retstr.close()\n",
    "    return returnedString"
   ]
  },
  {
   "cell_type": "markdown",
   "metadata": {},
   "source": [
    "First we need to take the response object and convert it into a 'file like'\n",
    "object so that pdfminer can read it. To do this we will use `io`'s `BytesIO`."
   ]
  },
  {
   "cell_type": "code",
   "execution_count": null,
   "metadata": {},
   "outputs": [],
   "source": [
    "infoExtractionBytes = io.BytesIO(infoExtractionRequest.content)"
   ]
  },
  {
   "cell_type": "markdown",
   "metadata": {},
   "source": [
    "Now we can give it to pdfminer."
   ]
  },
  {
   "cell_type": "code",
   "execution_count": null,
   "metadata": {},
   "outputs": [],
   "source": [
    "print(readPDF(infoExtractionBytes)[:550])"
   ]
  },
  {
   "cell_type": "markdown",
   "metadata": {},
   "source": [
    "From here we can either look at the full text or fiddle with our PDF reader and\n",
    "get more information about individual blocks of text.\n",
    "\n",
    "## Word Docs\n",
    "\n",
    "The other type of document you are likely to encounter is the `.docx`, these are\n",
    "actually a version of [XML](https://en.wikipedia.org/wiki/Office_Open_XML), just\n",
    "like HTML, and like HTML we will use a specialized parser.\n",
    "\n",
    "For this class we will use [`python-docx`](https://python-\n",
    "docx.readthedocs.io/en/latest/) which provides a nice simple interface for\n",
    "reading `.docx` files"
   ]
  },
  {
   "cell_type": "code",
   "execution_count": null,
   "metadata": {},
   "outputs": [],
   "source": [
    "#example_docx = 'https://github.com/KnowledgeLab/content_analysis/raw/data/example_doc.docx'\n",
    "\n",
    "r = requests.get(example_docx, stream=True)\n",
    "d = docx.Document(io.BytesIO(r.content))\n",
    "for paragraph in d.paragraphs[:7]:\n",
    "    print(paragraph.text)"
   ]
  },
  {
   "cell_type": "markdown",
   "metadata": {},
   "source": [
    "This procedure uses the `io.BytesIO` class again, since `docx.Document` expects\n",
    "a file. Another way to do it is to save the document to a file and then read it\n",
    "like any other file. If we do this we can either delete the file afterwords, or\n",
    "save it and avoid downloading the following time.\n",
    "\n",
    "This function is useful as a part of many different tasks so it and others like it will be added to the helper package `lucem_illud_2020` so we can use it later without having to retype it."
   ]
  },
  {
   "cell_type": "code",
   "execution_count": null,
   "metadata": {},
   "outputs": [],
   "source": [
    "def downloadIfNeeded(targetURL, outputFile, **openkwargs):\n",
    "    if not os.path.isfile(outputFile):\n",
    "        outputDir = os.path.dirname(outputFile)\n",
    "        #This function is a more general os.mkdir()\n",
    "        if len(outputDir) > 0:\n",
    "            os.makedirs(outputDir, exist_ok = True)\n",
    "        r = requests.get(targetURL, stream=True)\n",
    "        #Using a closure like this is generally better than having to\n",
    "        #remember to close the file. There are ways to make this function\n",
    "        #work as a closure too\n",
    "        with open(outputFile, 'wb') as f:\n",
    "            f.write(r.content)\n",
    "    return open(outputFile, **openkwargs)"
   ]
  },
  {
   "cell_type": "markdown",
   "metadata": {},
   "source": [
    "This function will download, save and open `outputFile` as `outputFile` or just\n",
    "open it if `outputFile` exists. By default `open()` will open the file as read\n",
    "only text with the local encoding, which may cause issues if its not a text\n",
    "file."
   ]
  },
  {
   "cell_type": "code",
   "execution_count": null,
   "metadata": {},
   "outputs": [],
   "source": [
    "try:\n",
    "    d = docx.Document(downloadIfNeeded(example_docx, example_docx_save))\n",
    "except Exception as e:\n",
    "    print(e)"
   ]
  },
  {
   "cell_type": "markdown",
   "metadata": {},
   "source": [
    "We need to tell `open()` to read in binary mode (`'rb'`), this is why we added\n",
    "`**openkwargs`, this allows us to pass any keyword arguments (kwargs) from\n",
    "`downloadIfNeeded` to `open()`."
   ]
  },
  {
   "cell_type": "code",
   "execution_count": null,
   "metadata": {},
   "outputs": [],
   "source": [
    "d = docx.Document(downloadIfNeeded(example_docx, example_docx_save, mode = 'rb'))\n",
    "for paragraph in d.paragraphs[:7]:\n",
    "    print(paragraph.text)"
   ]
  },
  {
   "cell_type": "markdown",
   "metadata": {},
   "source": [
    "Now we can read the file with `docx.Document` and not have to wait for it to be\n",
    "downloaded every time."
   ]
  },
  {
   "cell_type": "markdown",
   "metadata": {},
   "source": [
    "\n",
    "# <span style=\"color:red\">Section 3</span>\n",
    "<span style=\"color:red\">Construct cells immediately below this that extract and organize textual content from text, PDF or Word into a pandas dataframe.</span>\n"
   ]
  },
  {
   "cell_type": "code",
   "execution_count": 15,
   "metadata": {},
   "outputs": [
    {
     "data": {
      "text/html": [
       "<div>\n",
       "<style scoped>\n",
       "    .dataframe tbody tr th:only-of-type {\n",
       "        vertical-align: middle;\n",
       "    }\n",
       "\n",
       "    .dataframe tbody tr th {\n",
       "        vertical-align: top;\n",
       "    }\n",
       "\n",
       "    .dataframe thead th {\n",
       "        text-align: right;\n",
       "    }\n",
       "</style>\n",
       "<table border=\"1\" class=\"dataframe\">\n",
       "  <thead>\n",
       "    <tr style=\"text-align: right;\">\n",
       "      <th></th>\n",
       "      <th>year</th>\n",
       "    </tr>\n",
       "  </thead>\n",
       "  <tbody>\n",
       "    <tr>\n",
       "      <th>0</th>\n",
       "      <td>1960</td>\n",
       "    </tr>\n",
       "    <tr>\n",
       "      <th>1</th>\n",
       "      <td>1960</td>\n",
       "    </tr>\n",
       "    <tr>\n",
       "      <th>2</th>\n",
       "      <td>1111</td>\n",
       "    </tr>\n",
       "    <tr>\n",
       "      <th>3</th>\n",
       "      <td>1751</td>\n",
       "    </tr>\n",
       "    <tr>\n",
       "      <th>4</th>\n",
       "      <td>2008</td>\n",
       "    </tr>\n",
       "    <tr>\n",
       "      <th>...</th>\n",
       "      <td>...</td>\n",
       "    </tr>\n",
       "    <tr>\n",
       "      <th>368</th>\n",
       "      <td>2000</td>\n",
       "    </tr>\n",
       "    <tr>\n",
       "      <th>369</th>\n",
       "      <td>2010</td>\n",
       "    </tr>\n",
       "    <tr>\n",
       "      <th>370</th>\n",
       "      <td>2010</td>\n",
       "    </tr>\n",
       "    <tr>\n",
       "      <th>371</th>\n",
       "      <td>2010</td>\n",
       "    </tr>\n",
       "    <tr>\n",
       "      <th>372</th>\n",
       "      <td>2010</td>\n",
       "    </tr>\n",
       "  </tbody>\n",
       "</table>\n",
       "<p>373 rows × 1 columns</p>\n",
       "</div>"
      ],
      "text/plain": [
       "     year\n",
       "0    1960\n",
       "1    1960\n",
       "2    1111\n",
       "3    1751\n",
       "4    2008\n",
       "..    ...\n",
       "368  2000\n",
       "369  2010\n",
       "370  2010\n",
       "371  2010\n",
       "372  2010\n",
       "\n",
       "[373 rows x 1 columns]"
      ]
     },
     "execution_count": 15,
     "metadata": {},
     "output_type": "execute_result"
    }
   ],
   "source": [
    "# Read the Music and Social Movement pdf I downloaded from Wiley library\n",
    "pdf_path = './data/Music_Social_Movement.pdf'\n",
    "\n",
    "pdf_file = open(pdf_path, 'rb')\n",
    "pdfReader = PyPDF2.PdfFileReader(pdf_file)\n",
    "pdflist = []\n",
    "num_page = pdfReader.numPages\n",
    "for i in range(num_page):\n",
    "    pdflist.append(pdfReader.getPage(i).extractText())\n",
    "    \n",
    "# Using this method from googling is a bit not well-formatted. \n",
    "# We can still distill information like, the year that appeared most in this pdf to see what literature he cited most\n",
    "# As well as what era of music did he focused on more.\n",
    "\n",
    "year_regex_1 = r'1\\d{3}'\n",
    "year_regex_2 = r'2\\d{3}'\n",
    "year_list = []\n",
    "for page in pdflist:\n",
    "    temp_list_1 = re.findall(year_regex_1, page)\n",
    "    for item in temp_list_1:\n",
    "        year_list.append(item)\n",
    "    temp_list_2 = re.findall(year_regex_2, page)\n",
    "    for item in temp_list_2:\n",
    "        year_list.append(item)\n",
    "        \n",
    "year_df = pd.DataFrame({'year': year_list})\n",
    "year_df\n",
    "# We can see some year like 1111 and 1751 are not years that appear in the paper, instead just a paper code\n",
    "# This remind us of checking the data after first order information extraction"
   ]
  },
  {
   "cell_type": "markdown",
   "metadata": {},
   "source": [
    "### Other sources:\n",
    "\n",
    "Other popular sources for internet data:\n",
    "\n",
    "[reddit](https://www.reddit.com/) - https://praw.readthedocs.io/en/v2.1.21/\n",
    "\n",
    "[twitter](https://twitter.com/) - https://pypi.org/project/python-twitter/\n",
    "\n",
    "[project gutenburg](https://www.gutenberg.org/) - https://github.com/ageitgey/Gutenberg \n",
    "\n"
   ]
  },
  {
   "cell_type": "code",
   "execution_count": null,
   "metadata": {},
   "outputs": [],
   "source": []
  }
 ],
 "metadata": {
  "kernelspec": {
   "display_name": "Python 3",
   "language": "python",
   "name": "python3"
  },
  "language_info": {
   "codemirror_mode": {
    "name": "ipython",
    "version": 3
   },
   "file_extension": ".py",
   "mimetype": "text/x-python",
   "name": "python",
   "nbconvert_exporter": "python",
   "pygments_lexer": "ipython3",
   "version": "3.8.3"
  }
 },
 "nbformat": 4,
 "nbformat_minor": 2
}
